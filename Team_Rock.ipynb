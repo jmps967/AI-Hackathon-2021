{
 "cells": [
  {
   "cell_type": "markdown",
   "metadata": {
    "id": "T1uyfpPhCb_X"
   },
   "source": [
    "# <center>INDIA ACADEMIA CONNECT AL HACKATHON 2021</center>"
   ]
  },
  {
   "cell_type": "markdown",
   "metadata": {
    "id": "hH2ZHEQKCffL"
   },
   "source": [
    "## Table of Contents\n",
    "\n",
    "1. [Hackathon Description](#section1)<br>\n",
    "2. [Problem Statement](#section2)<br>\n",
    "3. [Installing & Importing Libraries](#section3)<br>\n",
    "4. [Data Acquisition & Description](#section4)<br>\n",
    "5. [Data Preprocessing](#section5)<br>\n",
    "6. [Feature Selection](#section6)<br>\n",
    "7. [Model Building](#section7)<br>  \n",
    "8. [Plotting results](#section8)<br>\n",
    "9. [Visualizing Prediction](#section9)<br>\n",
    "10. [Creating a JSON file](#section10)<br> "
   ]
  },
  {
   "cell_type": "markdown",
   "metadata": {
    "id": "Bf4ya4r6CmsD"
   },
   "source": [
    "# 1. Hackathon Description "
   ]
  },
  {
   "cell_type": "markdown",
   "metadata": {
    "id": "jXi2R6k_Cnzy"
   },
   "source": [
    "Artificial intelligence will be an enormous part of the future workforce. It’s expected to generate 2 million net job gains versus losses by 2025. India Academia Connect AI Hackathon will help the participants from leading research institutions with the opportunity to learn and implement the latest AI technology, preparing them for a future AI-powered economy, with a large research and developer base.This Hackathon will be hosted online with all times Indian Standard Time (IST). All communication will be done through Zoom, Slack and email.Submissions are evaluated on Accuracy Score between the predicted and the actual labels on the test dataset."
   ]
  },
  {
   "cell_type": "markdown",
   "metadata": {
    "id": "G78gzCGSC0GX"
   },
   "source": [
    "# 2. Problem Statement"
   ]
  },
  {
   "cell_type": "markdown",
   "metadata": {
    "id": "i8e4gR9lC1Xi"
   },
   "source": [
    "During the event, participants will be working on a problem of Image classification. The input dataset will consist of images containing Hindi characters. The challenge is to identify the presence of a character in images using Convolutional Neural Networks.\n",
    "\n",
    "The dataset will contain the following:\n",
    "\n",
    "\n",
    "*   Train Dataset: Consists of sample reference sets which can be used by\n",
    "participants to train the Convolution Neural Network. The participants are recommended to use their own training dataset if required.\n",
    "*  Test Dataset: The test dataset will contain the images to be classified and results to be submitted in the form of a JSON file. More details on the JSON format and a sample provided as part of the dataset. "
   ]
  },
  {
   "cell_type": "markdown",
   "metadata": {
    "id": "8P93a1LZC9Qj"
   },
   "source": [
    "# 3. Installing and Importing the Libraries"
   ]
  },
  {
   "cell_type": "code",
   "execution_count": 1,
   "metadata": {
    "id": "E0m-Y2-wCReX"
   },
   "outputs": [],
   "source": [
    "import os,random\n",
    "import matplotlib.pyplot as plt\n",
    "import numpy as np\n",
    "from keras.preprocessing import image\n",
    "import ntpath\n"
   ]
  },
  {
   "cell_type": "code",
   "execution_count": 2,
   "metadata": {
    "id": "piDeaKvkCReh"
   },
   "outputs": [],
   "source": [
    "import keras,os\n",
    "import tensorflow as tf\n",
    "from keras.models import Sequential # Gets our neural network as sequential network\n",
    "from keras.layers import Conv2D # Images are basically 2D\n",
    "from keras.layers import MaxPool2D # Average Pooling, Sum Pooling and Max Pooling is there. we use Max pooling\n",
    "from keras.layers import Flatten # It is process of converting all 2D array to continious linear vector\n",
    "from keras.layers import Dense # Full connection of this neural network is performed using dense\n",
    "from keras.preprocessing.image import ImageDataGenerator # It helps rescale, flip, rotate etc\n",
    "import numpy as np"
   ]
  },
  {
   "cell_type": "code",
   "execution_count": 3,
   "metadata": {
    "id": "ds6xfnFOCRej"
   },
   "outputs": [],
   "source": [
    "# Import VGG16 Pretrained model\n",
    "# Instantiate convolutional base\n",
    "from keras.applications.vgg16 import VGG16\n",
    "tf.keras.applications.VGG16\n",
    "from keras import layers\n",
    "from keras import optimizers"
   ]
  },
  {
   "cell_type": "markdown",
   "metadata": {},
   "source": [
    "#### Split of test folder is done separatly using below code ####\n",
    "\n",
    "os.chdir('..') \n",
    "\n",
    "if os.path.isdir('test/background') is False: \n",
    "\n",
    "   os.makedirs('test/background')\n",
    "   \n",
    "   os.makedirs('test/hi')\n",
    "\n",
    "\n",
    "\n",
    "     for c in  random.sample(glob.glob('background*'), 50):\n",
    "\n",
    "         shutil.move(c, 'test/background')\n",
    "  \n",
    "   for c in random.sample(glob.glob('hi*'), 48 ):\n",
    "   \n",
    "         shutil.move(c, 'test/hi')"
   ]
  },
  {
   "cell_type": "markdown",
   "metadata": {},
   "source": [
    "# Setup path for the images"
   ]
  },
  {
   "cell_type": "code",
   "execution_count": 4,
   "metadata": {
    "id": "lZTEOwKKCRel"
   },
   "outputs": [],
   "source": [
    "\n",
    "base_dir = r'C:\\Users\\Jigna.thacker\\Downloads\\AI-Hackaton'\n",
    "train_dir = os.path.join(base_dir, 'training')\n",
    "test_dir = os.path.join(base_dir, 'test')\n",
    "train_bg_dir = os.path.join(train_dir, 'background')\n",
    "\n",
    "train_hi_dir = os.path.join(train_dir, 'hi')\n",
    "test_hi_dir = os.path.join(test_dir, 'hi')\n",
    "test_background_dir = os.path.join(test_dir, 'background')"
   ]
  },
  {
   "cell_type": "code",
   "execution_count": 5,
   "metadata": {
    "id": "Pf_4q7fgCRen",
    "outputId": "c9ca86ed-23b1-40c5-cd53-752b75733dfe"
   },
   "outputs": [
    {
     "name": "stdout",
     "output_type": "stream",
     "text": [
      "4450\n"
     ]
    }
   ],
   "source": [
    "file_count = sum(len(files) for _, _, files in os.walk(train_bg_dir))\n",
    "print(file_count)"
   ]
  },
  {
   "cell_type": "code",
   "execution_count": 6,
   "metadata": {
    "id": "DNJ68JdaCRep",
    "outputId": "8968c071-76b1-47c1-857f-33f5e1806699"
   },
   "outputs": [
    {
     "name": "stdout",
     "output_type": "stream",
     "text": [
      "1425\n"
     ]
    }
   ],
   "source": [
    "file_count = sum(len(files) for _, _, files in os.walk(train_hi_dir))\n",
    "print(file_count)"
   ]
  },
  {
   "cell_type": "code",
   "execution_count": 7,
   "metadata": {
    "id": "LkO5RI3UCRer",
    "outputId": "88a00ffa-c9c1-4aab-c151-6aef2bdad6ff"
   },
   "outputs": [
    {
     "name": "stdout",
     "output_type": "stream",
     "text": [
      "100\n"
     ]
    }
   ],
   "source": [
    "file_count = sum(len(files) for _, _, files in os.walk(test_dir))\n",
    "print(file_count)"
   ]
  },
  {
   "cell_type": "code",
   "execution_count": 8,
   "metadata": {
    "id": "zUoGcXLECReu"
   },
   "outputs": [],
   "source": [
    "train_size, test_size = 5875,98"
   ]
  },
  {
   "cell_type": "code",
   "execution_count": 9,
   "metadata": {
    "id": "-Cemfro6CRev"
   },
   "outputs": [],
   "source": [
    "img_width, img_height=64,64"
   ]
  },
  {
   "cell_type": "code",
   "execution_count": 10,
   "metadata": {
    "id": "CUo1oGZxCRex",
    "outputId": "6113a64b-8a86-4ebc-f190-3396da26a11b"
   },
   "outputs": [
    {
     "data": {
      "image/png": "[encoded data removed]",
      "text/plain": [
       "<Figure size 432x288 with 1 Axes>"
      ]
     },
     "metadata": {
      "needs_background": "light"
     },
     "output_type": "display_data"
    },
    {
     "data": {
      "image/png": "[encoded data removed]",
      "text/plain": [
       "<Figure size 432x288 with 1 Axes>"
      ]
     },
     "metadata": {
      "needs_background": "light"
     },
     "output_type": "display_data"
    },
    {
     "data": {
      "image/png": "[encoded data removed]",
      "text/plain": [
       "<Figure size 432x288 with 1 Axes>"
      ]
     },
     "metadata": {
      "needs_background": "light"
     },
     "output_type": "display_data"
    },
    {
     "data": {
      "image/png": "[encoded data removed]",
      "text/plain": [
       "<Figure size 432x288 with 1 Axes>"
      ]
     },
     "metadata": {
      "needs_background": "light"
     },
     "output_type": "display_data"
    }
   ],
   "source": [
    "# Show pictures\n",
    "\n",
    "def show_pictures(path):\n",
    "    random_img = random.choice(os.listdir(path))\n",
    "    img_path = os.path.join(path, random_img)\n",
    "\n",
    "    img = image.load_img(img_path, target_size=(img_width, img_height))\n",
    "    img_tensor = image.img_to_array(img)  # Image data encoded as integers in the 0–255 range\n",
    "    img_tensor /= 255.  # Normalize to [0,1] for plt.imshow application\n",
    "    plt.imshow(img_tensor)\n",
    "    plt.show()\n",
    "    \n",
    "for i in range(0,2):\n",
    "    show_pictures(train_bg_dir)\n",
    "    show_pictures(train_hi_dir)"
   ]
  },
  {
   "cell_type": "code",
   "execution_count": 11,
   "metadata": {
    "id": "6dqvOraPCRe0"
   },
   "outputs": [],
   "source": [
    "vgg16covbase= VGG16(weights='imagenet', # pretraining on imagenet\n",
    "                  include_top=False, # whether to include the 3 fully-connected layers at the top of the network.\n",
    "                  input_shape=(64, 64, 3))  # 3 = number of channels in RGB pictures\n",
    "# The entire layers are present inside this.The feature extractor is inbuilt"
   ]
  },
  {
   "cell_type": "code",
   "execution_count": 12,
   "metadata": {
    "id": "re6iPUwyCRe1",
    "outputId": "a6c36f25-e4af-4e56-eafb-5c1bd4474217"
   },
   "outputs": [
    {
     "name": "stdout",
     "output_type": "stream",
     "text": [
      "Model: \"vgg16\"\n",
      "_________________________________________________________________\n",
      "Layer (type)                 Output Shape              Param #   \n",
      "=================================================================\n",
      "input_1 (InputLayer)         [(None, 64, 64, 3)]       0         \n",
      "_________________________________________________________________\n",
      "block1_conv1 (Conv2D)        (None, 64, 64, 64)        1792      \n",
      "_________________________________________________________________\n",
      "block1_conv2 (Conv2D)        (None, 64, 64, 64)        36928     \n",
      "_________________________________________________________________\n",
      "block1_pool (MaxPooling2D)   (None, 32, 32, 64)        0         \n",
      "_________________________________________________________________\n",
      "block2_conv1 (Conv2D)        (None, 32, 32, 128)       73856     \n",
      "_________________________________________________________________\n",
      "block2_conv2 (Conv2D)        (None, 32, 32, 128)       147584    \n",
      "_________________________________________________________________\n",
      "block2_pool (MaxPooling2D)   (None, 16, 16, 128)       0         \n",
      "_________________________________________________________________\n",
      "block3_conv1 (Conv2D)        (None, 16, 16, 256)       295168    \n",
      "_________________________________________________________________\n",
      "block3_conv2 (Conv2D)        (None, 16, 16, 256)       590080    \n",
      "_________________________________________________________________\n",
      "block3_conv3 (Conv2D)        (None, 16, 16, 256)       590080    \n",
      "_________________________________________________________________\n",
      "block3_pool (MaxPooling2D)   (None, 8, 8, 256)         0         \n",
      "_________________________________________________________________\n",
      "block4_conv1 (Conv2D)        (None, 8, 8, 512)         1180160   \n",
      "_________________________________________________________________\n",
      "block4_conv2 (Conv2D)        (None, 8, 8, 512)         2359808   \n",
      "_________________________________________________________________\n",
      "block4_conv3 (Conv2D)        (None, 8, 8, 512)         2359808   \n",
      "_________________________________________________________________\n",
      "block4_pool (MaxPooling2D)   (None, 4, 4, 512)         0         \n",
      "_________________________________________________________________\n",
      "block5_conv1 (Conv2D)        (None, 4, 4, 512)         2359808   \n",
      "_________________________________________________________________\n",
      "block5_conv2 (Conv2D)        (None, 4, 4, 512)         2359808   \n",
      "_________________________________________________________________\n",
      "block5_conv3 (Conv2D)        (None, 4, 4, 512)         2359808   \n",
      "_________________________________________________________________\n",
      "block5_pool (MaxPooling2D)   (None, 2, 2, 512)         0         \n",
      "=================================================================\n",
      "Total params: 14,714,688\n",
      "Trainable params: 14,714,688\n",
      "Non-trainable params: 0\n",
      "_________________________________________________________________\n"
     ]
    }
   ],
   "source": [
    "vgg16covbase.summary()"
   ]
  },
  {
   "cell_type": "code",
   "execution_count": 13,
   "metadata": {
    "id": "UUukRzrvCRe2",
    "outputId": "da574a58-dd5c-4bae-f107-f2f3e61c6816"
   },
   "outputs": [
    {
     "name": "stdout",
     "output_type": "stream",
     "text": [
      "Found 5875 images belonging to 2 classes.\n",
      "Found 98 images belonging to 2 classes.\n"
     ]
    }
   ],
   "source": [
    "import os, shutil\n",
    "from keras.preprocessing.image import ImageDataGenerator\n",
    "\n",
    "datagen = ImageDataGenerator(rescale=1./255)\n",
    "batch_size = 32\n",
    "\n",
    "def extract_features(directory, sample_count):\n",
    "    features = np.zeros(shape=(sample_count, 2, 2, 512))  # Must be equal to the output of the convolutional base\n",
    "    labels = np.zeros(shape=(sample_count))\n",
    "    # Preprocess data\n",
    "    generator = datagen.flow_from_directory(directory,\n",
    "                                            target_size=(64,64),\n",
    "                                            batch_size = batch_size,\n",
    "                                            class_mode='binary')\n",
    "    # Pass data through convolutional base\n",
    "    i = 0\n",
    "    for inputs_batch, labels_batch in generator:\n",
    "        features_batch = vgg16covbase.predict(inputs_batch)\n",
    "        features[i * batch_size: (i + 1) * batch_size] = features_batch\n",
    "        labels[i * batch_size: (i + 1) * batch_size] = labels_batch\n",
    "        i += 1\n",
    "        if i * batch_size >= sample_count:\n",
    "            break\n",
    "    return features, labels\n",
    "    \n",
    "train_features, train_labels = extract_features(train_dir, train_size)  # Agree with our small dataset size\n",
    "\n",
    "test_features, test_labels = extract_features(test_dir, test_size)"
   ]
  },
  {
   "cell_type": "code",
   "execution_count": 14,
   "metadata": {
    "id": "Gu1lhBz_CRe5",
    "outputId": "5ccdc69c-74dd-4957-f490-bb75a900e293"
   },
   "outputs": [
    {
     "name": "stdout",
     "output_type": "stream",
     "text": [
      "Model: \"sequential\"\n",
      "_________________________________________________________________\n",
      "Layer (type)                 Output Shape              Param #   \n",
      "=================================================================\n",
      "flatten (Flatten)            (None, 2048)              0         \n",
      "_________________________________________________________________\n",
      "dense (Dense)                (None, 256)               524544    \n",
      "_________________________________________________________________\n",
      "dropout (Dropout)            (None, 256)               0         \n",
      "_________________________________________________________________\n",
      "dense_1 (Dense)              (None, 1)                 257       \n",
      "=================================================================\n",
      "Total params: 524,801\n",
      "Trainable params: 524,801\n",
      "Non-trainable params: 0\n",
      "_________________________________________________________________\n"
     ]
    }
   ],
   "source": [
    "from keras import models\n",
    "\n",
    "epochs = 100\n",
    "\n",
    "model = models.Sequential()\n",
    "model.add(layers.Flatten(input_shape=(2,2,512)))\n",
    "model.add(layers.Dense(256, activation='relu', input_dim=(2*2*512)))\n",
    "model.add(layers.Dropout(0.5))\n",
    "model.add(layers.Dense(1, activation='sigmoid'))\n",
    "model.summary()"
   ]
  },
  {
   "cell_type": "code",
   "execution_count": 15,
   "metadata": {
    "id": "7S2sxz-sCRe7"
   },
   "outputs": [],
   "source": [
    "# Compile model\n",
    "model.compile(optimizer='adam',\n",
    "              loss='binary_crossentropy',\n",
    "              metrics=['acc'])"
   ]
  },
  {
   "cell_type": "code",
   "execution_count": 16,
   "metadata": {
    "id": "H-S2cZ2UCRe8",
    "outputId": "445d31be-e482-4ce9-b81a-8f8f18f0233d"
   },
   "outputs": [
    {
     "name": "stdout",
     "output_type": "stream",
     "text": [
      "Epoch 1/100\n",
      "184/184 [==============================] - 1s 4ms/step - loss: 0.3891 - acc: 0.8315 - val_loss: 0.4700 - val_acc: 0.7755\n",
      "Epoch 2/100\n",
      "184/184 [==============================] - 1s 4ms/step - loss: 0.2748 - acc: 0.8889 - val_loss: 0.3903 - val_acc: 0.8265\n",
      "Epoch 3/100\n",
      "184/184 [==============================] - 1s 4ms/step - loss: 0.2422 - acc: 0.9038 - val_loss: 0.4813 - val_acc: 0.7959\n",
      "Epoch 4/100\n",
      "184/184 [==============================] - 1s 4ms/step - loss: 0.2044 - acc: 0.9202 - val_loss: 0.4042 - val_acc: 0.8367\n",
      "Epoch 5/100\n",
      "184/184 [==============================] - 1s 4ms/step - loss: 0.1838 - acc: 0.9258 - val_loss: 0.4208 - val_acc: 0.8571\n",
      "Epoch 6/100\n",
      "184/184 [==============================] - 1s 4ms/step - loss: 0.1602 - acc: 0.9389 - val_loss: 0.4037 - val_acc: 0.8673\n",
      "Epoch 7/100\n",
      "184/184 [==============================] - 1s 4ms/step - loss: 0.1397 - acc: 0.9469 - val_loss: 0.5355 - val_acc: 0.8163\n",
      "Epoch 8/100\n",
      "184/184 [==============================] - 1s 4ms/step - loss: 0.1295 - acc: 0.9506 - val_loss: 0.4378 - val_acc: 0.8571\n",
      "Epoch 9/100\n",
      "184/184 [==============================] - 1s 4ms/step - loss: 0.1196 - acc: 0.9540 - val_loss: 0.4344 - val_acc: 0.8776\n",
      "Epoch 10/100\n",
      "184/184 [==============================] - 1s 4ms/step - loss: 0.1044 - acc: 0.9620 - val_loss: 0.4738 - val_acc: 0.8571\n",
      "Epoch 11/100\n",
      "184/184 [==============================] - 1s 4ms/step - loss: 0.0931 - acc: 0.9663 - val_loss: 0.4510 - val_acc: 0.8571\n",
      "Epoch 12/100\n",
      "184/184 [==============================] - 1s 4ms/step - loss: 0.0914 - acc: 0.9670 - val_loss: 0.4589 - val_acc: 0.8878\n",
      "Epoch 13/100\n",
      "184/184 [==============================] - 1s 4ms/step - loss: 0.0859 - acc: 0.9685 - val_loss: 0.4221 - val_acc: 0.8673\n",
      "Epoch 14/100\n",
      "184/184 [==============================] - 1s 4ms/step - loss: 0.0767 - acc: 0.9723 - val_loss: 0.3821 - val_acc: 0.8980\n",
      "Epoch 15/100\n",
      "184/184 [==============================] - 1s 4ms/step - loss: 0.0733 - acc: 0.9741 - val_loss: 0.3999 - val_acc: 0.8980\n",
      "Epoch 16/100\n",
      "184/184 [==============================] - 1s 4ms/step - loss: 0.0660 - acc: 0.9758 - val_loss: 0.4107 - val_acc: 0.8980\n",
      "Epoch 17/100\n",
      "184/184 [==============================] - 1s 5ms/step - loss: 0.0648 - acc: 0.9763 - val_loss: 0.4494 - val_acc: 0.8776\n",
      "Epoch 18/100\n",
      "184/184 [==============================] - 1s 4ms/step - loss: 0.0589 - acc: 0.9787 - val_loss: 0.4439 - val_acc: 0.8878\n",
      "Epoch 19/100\n",
      "184/184 [==============================] - 1s 4ms/step - loss: 0.0543 - acc: 0.9780 - val_loss: 0.4110 - val_acc: 0.8878\n",
      "Epoch 20/100\n",
      "184/184 [==============================] - 1s 5ms/step - loss: 0.0514 - acc: 0.9825 - val_loss: 0.4381 - val_acc: 0.9082\n",
      "Epoch 21/100\n",
      "184/184 [==============================] - 1s 4ms/step - loss: 0.0470 - acc: 0.9818 - val_loss: 0.4543 - val_acc: 0.8878\n",
      "Epoch 22/100\n",
      "184/184 [==============================] - 1s 4ms/step - loss: 0.0425 - acc: 0.9857 - val_loss: 0.4334 - val_acc: 0.9184\n",
      "Epoch 23/100\n",
      "184/184 [==============================] - 1s 4ms/step - loss: 0.0503 - acc: 0.9804 - val_loss: 0.3776 - val_acc: 0.8980\n",
      "Epoch 24/100\n",
      "184/184 [==============================] - 1s 4ms/step - loss: 0.0554 - acc: 0.9796 - val_loss: 0.4656 - val_acc: 0.8980\n",
      "Epoch 25/100\n",
      "184/184 [==============================] - 1s 4ms/step - loss: 0.0401 - acc: 0.9855 - val_loss: 0.4968 - val_acc: 0.9082\n",
      "Epoch 26/100\n",
      "184/184 [==============================] - 1s 4ms/step - loss: 0.0434 - acc: 0.9830 - val_loss: 0.5075 - val_acc: 0.9082\n",
      "Epoch 27/100\n",
      "184/184 [==============================] - 1s 4ms/step - loss: 0.0382 - acc: 0.9877 - val_loss: 0.5014 - val_acc: 0.9082\n",
      "Epoch 28/100\n",
      "184/184 [==============================] - 1s 4ms/step - loss: 0.0356 - acc: 0.9872 - val_loss: 0.5147 - val_acc: 0.8980\n",
      "Epoch 29/100\n",
      "184/184 [==============================] - 1s 4ms/step - loss: 0.0363 - acc: 0.9849 - val_loss: 0.4882 - val_acc: 0.9082\n",
      "Epoch 30/100\n",
      "184/184 [==============================] - 1s 4ms/step - loss: 0.0328 - acc: 0.9879 - val_loss: 0.6384 - val_acc: 0.9184\n",
      "Epoch 31/100\n",
      "184/184 [==============================] - 1s 4ms/step - loss: 0.0464 - acc: 0.9809 - val_loss: 0.5245 - val_acc: 0.8776\n",
      "Epoch 32/100\n",
      "184/184 [==============================] - 1s 5ms/step - loss: 0.0331 - acc: 0.9888 - val_loss: 0.5222 - val_acc: 0.9184\n",
      "Epoch 33/100\n",
      "184/184 [==============================] - 1s 5ms/step - loss: 0.0366 - acc: 0.9874 - val_loss: 0.5229 - val_acc: 0.8980\n",
      "Epoch 34/100\n",
      "184/184 [==============================] - 1s 5ms/step - loss: 0.0306 - acc: 0.9891 - val_loss: 0.5785 - val_acc: 0.8980\n",
      "Epoch 35/100\n",
      "184/184 [==============================] - 1s 5ms/step - loss: 0.0247 - acc: 0.9911 - val_loss: 0.5973 - val_acc: 0.8980\n",
      "Epoch 36/100\n",
      "184/184 [==============================] - 1s 4ms/step - loss: 0.0302 - acc: 0.9889 - val_loss: 0.5626 - val_acc: 0.9286\n",
      "Epoch 37/100\n",
      "184/184 [==============================] - 1s 5ms/step - loss: 0.0369 - acc: 0.9854 - val_loss: 0.5194 - val_acc: 0.9184\n",
      "Epoch 38/100\n",
      "184/184 [==============================] - 1s 5ms/step - loss: 0.0323 - acc: 0.9883 - val_loss: 0.5988 - val_acc: 0.9184\n",
      "Epoch 39/100\n",
      "184/184 [==============================] - 1s 5ms/step - loss: 0.0339 - acc: 0.9872 - val_loss: 0.5602 - val_acc: 0.9082\n",
      "Epoch 40/100\n",
      "184/184 [==============================] - 1s 5ms/step - loss: 0.0226 - acc: 0.9923 - val_loss: 0.6102 - val_acc: 0.9184\n",
      "Epoch 41/100\n",
      "184/184 [==============================] - 1s 4ms/step - loss: 0.0265 - acc: 0.9901 - val_loss: 0.5282 - val_acc: 0.8878\n",
      "Epoch 42/100\n",
      "184/184 [==============================] - 1s 4ms/step - loss: 0.0211 - acc: 0.9927 - val_loss: 0.6243 - val_acc: 0.8980\n",
      "Epoch 43/100\n",
      "184/184 [==============================] - 1s 5ms/step - loss: 0.0264 - acc: 0.9906 - val_loss: 0.5992 - val_acc: 0.9082\n",
      "Epoch 44/100\n",
      "184/184 [==============================] - 1s 4ms/step - loss: 0.0209 - acc: 0.9922 - val_loss: 0.6074 - val_acc: 0.9184\n",
      "Epoch 45/100\n",
      "184/184 [==============================] - 1s 5ms/step - loss: 0.0271 - acc: 0.9910 - val_loss: 0.5914 - val_acc: 0.9082\n",
      "Epoch 46/100\n",
      "184/184 [==============================] - 1s 5ms/step - loss: 0.0247 - acc: 0.9917 - val_loss: 0.6462 - val_acc: 0.8980\n",
      "Epoch 47/100\n",
      "184/184 [==============================] - 1s 5ms/step - loss: 0.0289 - acc: 0.9889 - val_loss: 0.6540 - val_acc: 0.9082\n",
      "Epoch 48/100\n",
      "184/184 [==============================] - 1s 4ms/step - loss: 0.0256 - acc: 0.9900 - val_loss: 0.6877 - val_acc: 0.8878\n",
      "Epoch 49/100\n",
      "184/184 [==============================] - 1s 5ms/step - loss: 0.0296 - acc: 0.9889 - val_loss: 0.7336 - val_acc: 0.8776\n",
      "Epoch 50/100\n",
      "184/184 [==============================] - 1s 5ms/step - loss: 0.0242 - acc: 0.9913 - val_loss: 0.5728 - val_acc: 0.9388\n",
      "Epoch 51/100\n",
      "184/184 [==============================] - 1s 5ms/step - loss: 0.0262 - acc: 0.9901 - val_loss: 0.6841 - val_acc: 0.9082\n",
      "Epoch 52/100\n",
      "184/184 [==============================] - 1s 4ms/step - loss: 0.0217 - acc: 0.9922 - val_loss: 0.6899 - val_acc: 0.9184\n",
      "Epoch 53/100\n",
      "184/184 [==============================] - 1s 5ms/step - loss: 0.0210 - acc: 0.9925 - val_loss: 0.6787 - val_acc: 0.9082\n",
      "Epoch 54/100\n",
      "184/184 [==============================] - 1s 5ms/step - loss: 0.0152 - acc: 0.9949 - val_loss: 0.6816 - val_acc: 0.9184\n",
      "Epoch 55/100\n",
      "184/184 [==============================] - 1s 5ms/step - loss: 0.0202 - acc: 0.9932 - val_loss: 0.6864 - val_acc: 0.9286\n",
      "Epoch 56/100\n",
      "184/184 [==============================] - 1s 5ms/step - loss: 0.0289 - acc: 0.9884 - val_loss: 0.6499 - val_acc: 0.9184\n",
      "Epoch 57/100\n",
      "184/184 [==============================] - 1s 4ms/step - loss: 0.0173 - acc: 0.9932 - val_loss: 0.7544 - val_acc: 0.8878\n",
      "Epoch 58/100\n",
      "184/184 [==============================] - 1s 5ms/step - loss: 0.0142 - acc: 0.9952 - val_loss: 0.6602 - val_acc: 0.9184\n",
      "Epoch 59/100\n",
      "184/184 [==============================] - 1s 4ms/step - loss: 0.0161 - acc: 0.9937 - val_loss: 0.6870 - val_acc: 0.8980\n",
      "Epoch 60/100\n",
      "184/184 [==============================] - 1s 4ms/step - loss: 0.0202 - acc: 0.9925 - val_loss: 0.8171 - val_acc: 0.8673\n",
      "Epoch 61/100\n",
      "184/184 [==============================] - 1s 4ms/step - loss: 0.0284 - acc: 0.9886 - val_loss: 0.7274 - val_acc: 0.8878\n",
      "Epoch 62/100\n",
      "184/184 [==============================] - 1s 4ms/step - loss: 0.0200 - acc: 0.9940 - val_loss: 0.7318 - val_acc: 0.9184\n",
      "Epoch 63/100\n",
      "184/184 [==============================] - 1s 4ms/step - loss: 0.0244 - acc: 0.9910 - val_loss: 0.6628 - val_acc: 0.8980\n",
      "Epoch 64/100\n",
      "184/184 [==============================] - 1s 4ms/step - loss: 0.0145 - acc: 0.9954 - val_loss: 0.6953 - val_acc: 0.8980\n",
      "Epoch 65/100\n",
      "184/184 [==============================] - 1s 4ms/step - loss: 0.0205 - acc: 0.9920 - val_loss: 0.7018 - val_acc: 0.9286\n",
      "Epoch 66/100\n",
      "184/184 [==============================] - 1s 4ms/step - loss: 0.0266 - acc: 0.9901 - val_loss: 0.6432 - val_acc: 0.9286\n",
      "Epoch 67/100\n",
      "184/184 [==============================] - 1s 5ms/step - loss: 0.0173 - acc: 0.9934 - val_loss: 0.7182 - val_acc: 0.8980\n",
      "Epoch 68/100\n",
      "184/184 [==============================] - 1s 5ms/step - loss: 0.0142 - acc: 0.9947 - val_loss: 0.7393 - val_acc: 0.9286\n",
      "Epoch 69/100\n",
      "184/184 [==============================] - 1s 4ms/step - loss: 0.0193 - acc: 0.9934 - val_loss: 0.8610 - val_acc: 0.8878\n",
      "Epoch 70/100\n",
      "184/184 [==============================] - 1s 4ms/step - loss: 0.0161 - acc: 0.9949 - val_loss: 0.7759 - val_acc: 0.8776\n",
      "Epoch 71/100\n",
      "184/184 [==============================] - 1s 4ms/step - loss: 0.0127 - acc: 0.9954 - val_loss: 0.7858 - val_acc: 0.8878\n",
      "Epoch 72/100\n",
      "184/184 [==============================] - 1s 4ms/step - loss: 0.0211 - acc: 0.9910 - val_loss: 0.7696 - val_acc: 0.9388\n",
      "Epoch 73/100\n",
      "184/184 [==============================] - 1s 4ms/step - loss: 0.0171 - acc: 0.9935 - val_loss: 0.7492 - val_acc: 0.9082\n",
      "Epoch 74/100\n",
      "184/184 [==============================] - 1s 4ms/step - loss: 0.0127 - acc: 0.9963 - val_loss: 0.7572 - val_acc: 0.9286\n",
      "Epoch 75/100\n",
      "184/184 [==============================] - 1s 4ms/step - loss: 0.0154 - acc: 0.9952 - val_loss: 0.8208 - val_acc: 0.9082\n",
      "Epoch 76/100\n",
      "184/184 [==============================] - 1s 4ms/step - loss: 0.0192 - acc: 0.9935 - val_loss: 0.7819 - val_acc: 0.9184\n",
      "Epoch 77/100\n",
      "184/184 [==============================] - 1s 4ms/step - loss: 0.0209 - acc: 0.9923 - val_loss: 0.9037 - val_acc: 0.8980\n",
      "Epoch 78/100\n",
      "184/184 [==============================] - 1s 4ms/step - loss: 0.0198 - acc: 0.9934 - val_loss: 0.8091 - val_acc: 0.9184\n",
      "Epoch 79/100\n",
      "184/184 [==============================] - 1s 4ms/step - loss: 0.0170 - acc: 0.9934 - val_loss: 0.8022 - val_acc: 0.8878\n",
      "Epoch 80/100\n",
      "184/184 [==============================] - 1s 4ms/step - loss: 0.0122 - acc: 0.9964 - val_loss: 0.7864 - val_acc: 0.9082\n",
      "Epoch 81/100\n",
      "184/184 [==============================] - 1s 4ms/step - loss: 0.0101 - acc: 0.9971 - val_loss: 0.8380 - val_acc: 0.8878\n",
      "Epoch 82/100\n",
      "184/184 [==============================] - 1s 4ms/step - loss: 0.0175 - acc: 0.9946 - val_loss: 0.9587 - val_acc: 0.8571\n",
      "Epoch 83/100\n",
      "184/184 [==============================] - 1s 4ms/step - loss: 0.0208 - acc: 0.9925 - val_loss: 0.8676 - val_acc: 0.8776\n",
      "Epoch 84/100\n",
      "184/184 [==============================] - 1s 4ms/step - loss: 0.0145 - acc: 0.9946 - val_loss: 0.7747 - val_acc: 0.9286\n",
      "Epoch 85/100\n",
      "184/184 [==============================] - 1s 4ms/step - loss: 0.0225 - acc: 0.9911 - val_loss: 0.8074 - val_acc: 0.8980\n",
      "Epoch 86/100\n",
      "184/184 [==============================] - 1s 4ms/step - loss: 0.0203 - acc: 0.9932 - val_loss: 0.8391 - val_acc: 0.8980\n",
      "Epoch 87/100\n",
      "184/184 [==============================] - 1s 4ms/step - loss: 0.0147 - acc: 0.9942 - val_loss: 0.8019 - val_acc: 0.9286\n",
      "Epoch 88/100\n",
      "184/184 [==============================] - 1s 4ms/step - loss: 0.0170 - acc: 0.9942 - val_loss: 0.9705 - val_acc: 0.8776\n",
      "Epoch 89/100\n",
      "184/184 [==============================] - 1s 4ms/step - loss: 0.0110 - acc: 0.9959 - val_loss: 0.8809 - val_acc: 0.9082\n",
      "Epoch 90/100\n",
      "184/184 [==============================] - 1s 4ms/step - loss: 0.0061 - acc: 0.9980 - val_loss: 1.0105 - val_acc: 0.9184\n",
      "Epoch 91/100\n",
      "184/184 [==============================] - 1s 4ms/step - loss: 0.0170 - acc: 0.9944 - val_loss: 0.9721 - val_acc: 0.8878\n",
      "Epoch 92/100\n",
      "184/184 [==============================] - 1s 4ms/step - loss: 0.0120 - acc: 0.9963 - val_loss: 0.9424 - val_acc: 0.9184\n",
      "Epoch 93/100\n",
      "184/184 [==============================] - 1s 4ms/step - loss: 0.0171 - acc: 0.9934 - val_loss: 0.9846 - val_acc: 0.8776\n",
      "Epoch 94/100\n",
      "184/184 [==============================] - 1s 4ms/step - loss: 0.0192 - acc: 0.9922 - val_loss: 0.9227 - val_acc: 0.9082\n",
      "Epoch 95/100\n",
      "184/184 [==============================] - 1s 4ms/step - loss: 0.0130 - acc: 0.9957 - val_loss: 0.8017 - val_acc: 0.9184\n",
      "Epoch 96/100\n",
      "184/184 [==============================] - 1s 4ms/step - loss: 0.0112 - acc: 0.9959 - val_loss: 1.0928 - val_acc: 0.8673\n",
      "Epoch 97/100\n",
      "184/184 [==============================] - 1s 4ms/step - loss: 0.0163 - acc: 0.9940 - val_loss: 0.9962 - val_acc: 0.9082\n",
      "Epoch 98/100\n",
      "184/184 [==============================] - 1s 4ms/step - loss: 0.0246 - acc: 0.9918 - val_loss: 0.7844 - val_acc: 0.9082\n",
      "Epoch 99/100\n",
      "184/184 [==============================] - 1s 4ms/step - loss: 0.0186 - acc: 0.9939 - val_loss: 0.8513 - val_acc: 0.8878\n",
      "Epoch 100/100\n",
      "184/184 [==============================] - 1s 4ms/step - loss: 0.0186 - acc: 0.9927 - val_loss: 0.8257 - val_acc: 0.8980\n"
     ]
    }
   ],
   "source": [
    "history = model.fit(train_features, train_labels,\n",
    "                    epochs=100,\n",
    "                    batch_size=batch_size, \n",
    "                    validation_data=(test_features, test_labels))"
   ]
  },
  {
   "cell_type": "markdown",
   "metadata": {},
   "source": [
    "*Accuracy of the model after 100 epoches : 0.9927*"
   ]
  },
  {
   "cell_type": "code",
   "execution_count": 17,
   "metadata": {
    "id": "dF5NZBjwCRe9",
    "outputId": "68d5ef2c-f77d-4430-f9fb-634127c34925"
   },
   "outputs": [
    {
     "data": {
      "text/plain": [
       "<matplotlib.legend.Legend at 0x23bd7e48df0>"
      ]
     },
     "execution_count": 17,
     "metadata": {},
     "output_type": "execute_result"
    },
    {
     "data": {
      "image/png": "[encoded data removed]",
      "text/plain": [
       "<Figure size 432x288 with 1 Axes>"
      ]
     },
     "metadata": {
      "needs_background": "light"
     },
     "output_type": "display_data"
    }
   ],
   "source": [
    "# Plot results\n",
    "import matplotlib.pyplot as plt\n",
    "\n",
    "plt.plot(history.history['acc']) \n",
    "plt.plot(history.history['val_acc'])\n",
    "plt.plot(history.history['loss'])\n",
    "plt.plot(history.history['val_loss'])\n",
    "plt.title('Model Accuracy')\n",
    "plt.ylabel('Accuracy') \n",
    "plt.xlabel('Epochs')\n",
    "plt.legend(['Accuracy','Validation Accuracy','Loss', 'Validation Loss'])"
   ]
  },
  {
   "cell_type": "code",
   "execution_count": 18,
   "metadata": {
    "id": "pMecIkdgCRe_"
   },
   "outputs": [],
   "source": [
    "# Define function to visualize predictions\n",
    "def visualize_predictions(classifier, n_cases):\n",
    "    datalist=[]\n",
    "    for i in range(0,n_cases):\n",
    "        path = random.choice([test_background_dir, test_hi_dir])\n",
    "\n",
    "        # Get picture\n",
    "        random_img = random.choice(os.listdir(path))\n",
    "        img_path = os.path.join(path, random_img)\n",
    "        img = image.load_img(img_path, target_size=(img_width, img_height))\n",
    "        img_tensor = image.img_to_array(img)  # Image data encoded as integers in the 0–255 range\n",
    "        img_tensor /= 255.  # Normalize to [0,1] for plt.imshow application\n",
    "\n",
    "        # Extract features\n",
    "        features = vgg16covbase.predict(img_tensor.reshape(1,img_width, img_height, 3))\n",
    "\n",
    "        # Make prediction\n",
    "        try:\n",
    "            prediction = classifier.predict(features)\n",
    "        except:\n",
    "            prediction = classifier.predict(features.reshape(1, 7*7*512))\n",
    "\n",
    "        # Show picture\n",
    "        #plt.imshow(img_tensor)\n",
    "        #plt.show()\n",
    "\n",
    "        # Write prediction\n",
    "        if prediction < 0.9:\n",
    "            tup1=(ntpath.basename(img_path),'0')\n",
    "            datalist.append(tup1)\n",
    "            print(ntpath.basename(img_path),':0')\n",
    "        else:\n",
    "            tup2=(ntpath.basename(img_path),'1')\n",
    "            datalist.append(tup2)\n",
    "            print(ntpath.basename(img_path),':1')\n",
    "    return(datalist) "
   ]
  },
  {
   "cell_type": "code",
   "execution_count": 19,
   "metadata": {
    "id": "5Y_wuyKtCRfA",
    "outputId": "55921bcd-af9f-4e2a-ea7b-38b8d59dcc1b"
   },
   "outputs": [
    {
     "name": "stdout",
     "output_type": "stream",
     "text": [
      "1.jpg :1\n",
      "41.jpg :0\n",
      "63.jpg :1\n",
      "27.jpg :1\n",
      "23.jpg :1\n",
      "59.jpg :0\n",
      "54.jpg :1\n",
      "48.jpg :1\n",
      "7.jpg :1\n",
      "39.jpg :0\n",
      "75.jpg :0\n",
      "92.jpg :0\n",
      "17.jpg :0\n",
      "93.jpg :1\n",
      "67.jpg :1\n",
      "59.jpg :0\n",
      "67.jpg :1\n",
      "56.jpg :0\n",
      "82.jpg :1\n",
      "27.jpg :1\n",
      "78.jpg :0\n",
      "38.jpg :0\n",
      "1.jpg :1\n",
      "49.jpg :0\n",
      "24.jpg :1\n",
      "54.jpg :1\n",
      "2.jpg :0\n",
      "67.jpg :1\n",
      "72.jpg :0\n",
      "96.jpg :0\n",
      "29.jpg :1\n",
      "96.jpg :0\n",
      "50.jpg :1\n",
      "52.jpg :1\n",
      "74.jpg :0\n",
      "66.jpg :0\n",
      "24.jpg :1\n",
      "75.jpg :0\n",
      "19.jpg :1\n",
      "16.jpg :0\n",
      "18.jpg :0\n",
      "89.jpg :0\n",
      "55.jpg :1\n",
      "31.jpg :0\n",
      "88.jpg :0\n",
      "9.jpg :0\n",
      "91.jpg :1\n",
      "42.jpg :1\n",
      "31.jpg :0\n",
      "95.jpg :0\n",
      "17.jpg :0\n",
      "1.jpg :1\n",
      "68.jpg :1\n",
      "58.jpg :0\n",
      "29.jpg :1\n",
      "10.jpg :0\n",
      "17.jpg :0\n",
      "18.jpg :0\n",
      "63.jpg :1\n",
      "70.jpg :1\n",
      "96.jpg :0\n",
      "55.jpg :1\n",
      "69.jpg :1\n",
      "48.jpg :1\n",
      "31.jpg :0\n",
      "73.jpg :1\n",
      "44.jpg :0\n",
      "40.jpg :1\n",
      "73.jpg :1\n",
      "51.jpg :0\n",
      "54.jpg :1\n",
      "14.jpg :0\n",
      "26.jpg :1\n",
      "15.jpg :0\n",
      "55.jpg :1\n",
      "70.jpg :1\n",
      "53.jpg :1\n",
      "20.jpg :0\n",
      "81.jpg :1\n",
      "1.jpg :1\n",
      "26.jpg :1\n",
      "54.jpg :1\n",
      "82.jpg :1\n",
      "80.jpg :0\n",
      "31.jpg :0\n",
      "68.jpg :1\n",
      "77.jpg :0\n",
      "25.jpg :0\n",
      "17.jpg :0\n",
      "89.jpg :0\n",
      "98.jpg :0\n",
      "41.jpg :0\n",
      "6.jpg :0\n",
      "23.jpg :1\n",
      "55.jpg :1\n",
      "63.jpg :1\n",
      "56.jpg :0\n",
      "90.jpg :1\n"
     ]
    }
   ],
   "source": [
    "\n",
    "result=visualize_predictions(model, 98)"
   ]
  },
  {
   "cell_type": "code",
   "execution_count": 20,
   "metadata": {
    "id": "ryxt1nCMCRfC",
    "outputId": "aaa2e1f4-411b-4e64-b1d6-94d23ea6c206"
   },
   "outputs": [
    {
     "name": "stdout",
     "output_type": "stream",
     "text": [
      "<class 'list'>\n"
     ]
    }
   ],
   "source": [
    "print(type(result))"
   ]
  },
  {
   "cell_type": "code",
   "execution_count": 21,
   "metadata": {
    "id": "mKOzaT8TCRfD",
    "outputId": "5e0dfd4f-15de-4b78-f728-01950acde81c"
   },
   "outputs": [
    {
     "data": {
      "text/plain": [
       "[('1.jpg', '1'),\n",
       " ('41.jpg', '0'),\n",
       " ('63.jpg', '1'),\n",
       " ('27.jpg', '1'),\n",
       " ('23.jpg', '1'),\n",
       " ('59.jpg', '0'),\n",
       " ('54.jpg', '1'),\n",
       " ('48.jpg', '1'),\n",
       " ('7.jpg', '1'),\n",
       " ('39.jpg', '0'),\n",
       " ('75.jpg', '0'),\n",
       " ('92.jpg', '0'),\n",
       " ('17.jpg', '0'),\n",
       " ('93.jpg', '1'),\n",
       " ('67.jpg', '1'),\n",
       " ('59.jpg', '0'),\n",
       " ('67.jpg', '1'),\n",
       " ('56.jpg', '0'),\n",
       " ('82.jpg', '1'),\n",
       " ('27.jpg', '1'),\n",
       " ('78.jpg', '0'),\n",
       " ('38.jpg', '0'),\n",
       " ('1.jpg', '1'),\n",
       " ('49.jpg', '0'),\n",
       " ('24.jpg', '1'),\n",
       " ('54.jpg', '1'),\n",
       " ('2.jpg', '0'),\n",
       " ('67.jpg', '1'),\n",
       " ('72.jpg', '0'),\n",
       " ('96.jpg', '0'),\n",
       " ('29.jpg', '1'),\n",
       " ('96.jpg', '0'),\n",
       " ('50.jpg', '1'),\n",
       " ('52.jpg', '1'),\n",
       " ('74.jpg', '0'),\n",
       " ('66.jpg', '0'),\n",
       " ('24.jpg', '1'),\n",
       " ('75.jpg', '0'),\n",
       " ('19.jpg', '1'),\n",
       " ('16.jpg', '0'),\n",
       " ('18.jpg', '0'),\n",
       " ('89.jpg', '0'),\n",
       " ('55.jpg', '1'),\n",
       " ('31.jpg', '0'),\n",
       " ('88.jpg', '0'),\n",
       " ('9.jpg', '0'),\n",
       " ('91.jpg', '1'),\n",
       " ('42.jpg', '1'),\n",
       " ('31.jpg', '0'),\n",
       " ('95.jpg', '0'),\n",
       " ('17.jpg', '0'),\n",
       " ('1.jpg', '1'),\n",
       " ('68.jpg', '1'),\n",
       " ('58.jpg', '0'),\n",
       " ('29.jpg', '1'),\n",
       " ('10.jpg', '0'),\n",
       " ('17.jpg', '0'),\n",
       " ('18.jpg', '0'),\n",
       " ('63.jpg', '1'),\n",
       " ('70.jpg', '1'),\n",
       " ('96.jpg', '0'),\n",
       " ('55.jpg', '1'),\n",
       " ('69.jpg', '1'),\n",
       " ('48.jpg', '1'),\n",
       " ('31.jpg', '0'),\n",
       " ('73.jpg', '1'),\n",
       " ('44.jpg', '0'),\n",
       " ('40.jpg', '1'),\n",
       " ('73.jpg', '1'),\n",
       " ('51.jpg', '0'),\n",
       " ('54.jpg', '1'),\n",
       " ('14.jpg', '0'),\n",
       " ('26.jpg', '1'),\n",
       " ('15.jpg', '0'),\n",
       " ('55.jpg', '1'),\n",
       " ('70.jpg', '1'),\n",
       " ('53.jpg', '1'),\n",
       " ('20.jpg', '0'),\n",
       " ('81.jpg', '1'),\n",
       " ('1.jpg', '1'),\n",
       " ('26.jpg', '1'),\n",
       " ('54.jpg', '1'),\n",
       " ('82.jpg', '1'),\n",
       " ('80.jpg', '0'),\n",
       " ('31.jpg', '0'),\n",
       " ('68.jpg', '1'),\n",
       " ('77.jpg', '0'),\n",
       " ('25.jpg', '0'),\n",
       " ('17.jpg', '0'),\n",
       " ('89.jpg', '0'),\n",
       " ('98.jpg', '0'),\n",
       " ('41.jpg', '0'),\n",
       " ('6.jpg', '0'),\n",
       " ('23.jpg', '1'),\n",
       " ('55.jpg', '1'),\n",
       " ('63.jpg', '1'),\n",
       " ('56.jpg', '0'),\n",
       " ('90.jpg', '1')]"
      ]
     },
     "execution_count": 21,
     "metadata": {},
     "output_type": "execute_result"
    }
   ],
   "source": [
    "result"
   ]
  },
  {
   "cell_type": "markdown",
   "metadata": {},
   "source": [
    "*saving data in *.json format*"
   ]
  },
  {
   "cell_type": "code",
   "execution_count": 22,
   "metadata": {
    "id": "xI0UtSkGCRfE"
   },
   "outputs": [],
   "source": [
    "import json\n",
    "import pandas as pd"
   ]
  },
  {
   "cell_type": "code",
   "execution_count": 23,
   "metadata": {
    "id": "DAPlL-ztCRfE"
   },
   "outputs": [],
   "source": [
    "df=pd.DataFrame(result)"
   ]
  },
  {
   "cell_type": "code",
   "execution_count": 24,
   "metadata": {
    "id": "z6LOF67WCRfG",
    "outputId": "0c0fe2cd-4da4-4332-c4bb-30b065f40045"
   },
   "outputs": [
    {
     "data": {
      "text/html": [
       "<div>\n",
       "<style scoped>\n",
       "    .dataframe tbody tr th:only-of-type {\n",
       "        vertical-align: middle;\n",
       "    }\n",
       "\n",
       "    .dataframe tbody tr th {\n",
       "        vertical-align: top;\n",
       "    }\n",
       "\n",
       "    .dataframe thead th {\n",
       "        text-align: right;\n",
       "    }\n",
       "</style>\n",
       "<table border=\"1\" class=\"dataframe\">\n",
       "  <thead>\n",
       "    <tr style=\"text-align: right;\">\n",
       "      <th></th>\n",
       "      <th>0</th>\n",
       "      <th>1</th>\n",
       "    </tr>\n",
       "  </thead>\n",
       "  <tbody>\n",
       "    <tr>\n",
       "      <th>0</th>\n",
       "      <td>1.jpg</td>\n",
       "      <td>1</td>\n",
       "    </tr>\n",
       "    <tr>\n",
       "      <th>1</th>\n",
       "      <td>41.jpg</td>\n",
       "      <td>0</td>\n",
       "    </tr>\n",
       "    <tr>\n",
       "      <th>2</th>\n",
       "      <td>63.jpg</td>\n",
       "      <td>1</td>\n",
       "    </tr>\n",
       "    <tr>\n",
       "      <th>3</th>\n",
       "      <td>27.jpg</td>\n",
       "      <td>1</td>\n",
       "    </tr>\n",
       "    <tr>\n",
       "      <th>4</th>\n",
       "      <td>23.jpg</td>\n",
       "      <td>1</td>\n",
       "    </tr>\n",
       "    <tr>\n",
       "      <th>...</th>\n",
       "      <td>...</td>\n",
       "      <td>...</td>\n",
       "    </tr>\n",
       "    <tr>\n",
       "      <th>93</th>\n",
       "      <td>23.jpg</td>\n",
       "      <td>1</td>\n",
       "    </tr>\n",
       "    <tr>\n",
       "      <th>94</th>\n",
       "      <td>55.jpg</td>\n",
       "      <td>1</td>\n",
       "    </tr>\n",
       "    <tr>\n",
       "      <th>95</th>\n",
       "      <td>63.jpg</td>\n",
       "      <td>1</td>\n",
       "    </tr>\n",
       "    <tr>\n",
       "      <th>96</th>\n",
       "      <td>56.jpg</td>\n",
       "      <td>0</td>\n",
       "    </tr>\n",
       "    <tr>\n",
       "      <th>97</th>\n",
       "      <td>90.jpg</td>\n",
       "      <td>1</td>\n",
       "    </tr>\n",
       "  </tbody>\n",
       "</table>\n",
       "<p>98 rows × 2 columns</p>\n",
       "</div>"
      ],
      "text/plain": [
       "         0  1\n",
       "0    1.jpg  1\n",
       "1   41.jpg  0\n",
       "2   63.jpg  1\n",
       "3   27.jpg  1\n",
       "4   23.jpg  1\n",
       "..     ... ..\n",
       "93  23.jpg  1\n",
       "94  55.jpg  1\n",
       "95  63.jpg  1\n",
       "96  56.jpg  0\n",
       "97  90.jpg  1\n",
       "\n",
       "[98 rows x 2 columns]"
      ]
     },
     "execution_count": 24,
     "metadata": {},
     "output_type": "execute_result"
    }
   ],
   "source": [
    "df"
   ]
  },
  {
   "cell_type": "code",
   "execution_count": 25,
   "metadata": {
    "id": "2uWv1gRcCRfH"
   },
   "outputs": [],
   "source": [
    "df2 = df.set_axis(['name','value'], axis=1, inplace=False)\n"
   ]
  },
  {
   "cell_type": "code",
   "execution_count": 26,
   "metadata": {
    "id": "eStwFyM1CRfH",
    "outputId": "87a7ed2e-faa2-4492-bc32-4c6e3522517d"
   },
   "outputs": [
    {
     "data": {
      "text/html": [
       "<div>\n",
       "<style scoped>\n",
       "    .dataframe tbody tr th:only-of-type {\n",
       "        vertical-align: middle;\n",
       "    }\n",
       "\n",
       "    .dataframe tbody tr th {\n",
       "        vertical-align: top;\n",
       "    }\n",
       "\n",
       "    .dataframe thead th {\n",
       "        text-align: right;\n",
       "    }\n",
       "</style>\n",
       "<table border=\"1\" class=\"dataframe\">\n",
       "  <thead>\n",
       "    <tr style=\"text-align: right;\">\n",
       "      <th></th>\n",
       "      <th>name</th>\n",
       "      <th>value</th>\n",
       "    </tr>\n",
       "  </thead>\n",
       "  <tbody>\n",
       "    <tr>\n",
       "      <th>0</th>\n",
       "      <td>1.jpg</td>\n",
       "      <td>1</td>\n",
       "    </tr>\n",
       "    <tr>\n",
       "      <th>1</th>\n",
       "      <td>41.jpg</td>\n",
       "      <td>0</td>\n",
       "    </tr>\n",
       "    <tr>\n",
       "      <th>2</th>\n",
       "      <td>63.jpg</td>\n",
       "      <td>1</td>\n",
       "    </tr>\n",
       "    <tr>\n",
       "      <th>3</th>\n",
       "      <td>27.jpg</td>\n",
       "      <td>1</td>\n",
       "    </tr>\n",
       "    <tr>\n",
       "      <th>4</th>\n",
       "      <td>23.jpg</td>\n",
       "      <td>1</td>\n",
       "    </tr>\n",
       "    <tr>\n",
       "      <th>...</th>\n",
       "      <td>...</td>\n",
       "      <td>...</td>\n",
       "    </tr>\n",
       "    <tr>\n",
       "      <th>93</th>\n",
       "      <td>23.jpg</td>\n",
       "      <td>1</td>\n",
       "    </tr>\n",
       "    <tr>\n",
       "      <th>94</th>\n",
       "      <td>55.jpg</td>\n",
       "      <td>1</td>\n",
       "    </tr>\n",
       "    <tr>\n",
       "      <th>95</th>\n",
       "      <td>63.jpg</td>\n",
       "      <td>1</td>\n",
       "    </tr>\n",
       "    <tr>\n",
       "      <th>96</th>\n",
       "      <td>56.jpg</td>\n",
       "      <td>0</td>\n",
       "    </tr>\n",
       "    <tr>\n",
       "      <th>97</th>\n",
       "      <td>90.jpg</td>\n",
       "      <td>1</td>\n",
       "    </tr>\n",
       "  </tbody>\n",
       "</table>\n",
       "<p>98 rows × 2 columns</p>\n",
       "</div>"
      ],
      "text/plain": [
       "      name value\n",
       "0    1.jpg     1\n",
       "1   41.jpg     0\n",
       "2   63.jpg     1\n",
       "3   27.jpg     1\n",
       "4   23.jpg     1\n",
       "..     ...   ...\n",
       "93  23.jpg     1\n",
       "94  55.jpg     1\n",
       "95  63.jpg     1\n",
       "96  56.jpg     0\n",
       "97  90.jpg     1\n",
       "\n",
       "[98 rows x 2 columns]"
      ]
     },
     "execution_count": 26,
     "metadata": {},
     "output_type": "execute_result"
    }
   ],
   "source": [
    "df2"
   ]
  },
  {
   "cell_type": "code",
   "execution_count": 27,
   "metadata": {
    "id": "5glAvUv1CRfJ"
   },
   "outputs": [],
   "source": [
    "df2.to_json('Team_Rock.json')"
   ]
  },
  {
   "cell_type": "markdown",
   "metadata": {
    "id": "EW-Bxf05CRfK"
   },
   "source": [
    "**THANK YOU**"
   ]
  }
 ],
 "metadata": {
  "colab": {
   "collapsed_sections": [],
   "name": "Team_Rock.ipynb",
   "provenance": []
  },
  "kernelspec": {
   "display_name": "Python 3",
   "language": "python",
   "name": "python3"
  },
  "language_info": {
   "codemirror_mode": {
    "name": "ipython",
    "version": 3
   },
   "file_extension": ".py",
   "mimetype": "text/x-python",
   "name": "python",
   "nbconvert_exporter": "python",
   "pygments_lexer": "ipython3",
   "version": "3.8.8"
  }
 },
 "nbformat": 4,
 "nbformat_minor": 1
}
